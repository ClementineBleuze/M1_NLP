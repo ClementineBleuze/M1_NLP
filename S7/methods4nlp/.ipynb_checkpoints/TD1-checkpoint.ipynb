{
 "cells": [
  {
   "cell_type": "markdown",
   "id": "4040db91",
   "metadata": {},
   "source": [
    "# TD 1\n",
    "\n",
    "## 1. Regular expression"
   ]
  },
  {
   "cell_type": "markdown",
   "id": "63558344",
   "metadata": {},
   "source": [
    "### 1.1\n",
    "a) a, ba, ab, abb, abbb, abbbb, ...  \n",
    "b) a followed by any number of digits, then by at least one space character (eg: \"a789 \")  \n",
    "c) a space character, or an \"e\" followed by a space character, or an \"a\" followed by a space character  \n",
    "d) at least 1 digit between 0-7, then a coma, then any number of digits between 0-7, then 1 digit between 1-7 OR at least 1 digit between 0-7 -> numbers in base 8, including fractions  \n",
    "\n",
    "### 1.2\n",
    "a) Numerical values in euros: \"\\d+([.,]\\d{1-2})?€\"  \n",
    "> Assuming that the values should be written with either a decimal point or coma, followed by the € symbol\n",
    "\n",
    "b) Dates written in the dd/mm/yyyy format: \" (0[1-9]|[12][0-9]|3[01]) / (0[0-9]|1[0-2]) / \\d{4}\"  \n",
    "c) Strings with at least twice the word \"search\", but not at the beginning or end of the string:\n",
    "\".+search.\\*search.+\"  \n",
    "d) Flexed forms of the word \"marcher\", present only: \"(M|m)arch(e|es|ons|ez|ent)\"  \n",
    "e) Lines ending in a question mark: \"(\\n|\\^).\\*\\\\?\\n\"  \n",
    "\n",
    "### 1.3  \n",
    "Ambiguous RE: a single string can be recognized from different parts of the RE.  \n",
    "a) \"a\" can be recognized by either parts of the disjunction.  \n",
    "b) \"aabb\" can be recognized by the first and third parts of the disjunction.  \n",
    "\n",
    "### 1.4\n",
    "a) R.E. : “a\\w∗a” Text : “acddcceeacvvv bbaa” -> Result = \"acddcceea\"  \n",
    "b) R.E. : “[ˆa-z]+ba” Text : “Aaa Abbca bac”  -> Result = \" ba\"  \n",
    "c) R.E. : “ˆ.\\b” Text : “Je viens.\\n Et toi ?”  -> Result = None  \n",
    "d) R.E. : “\\b[A-Z].∗” Text : “Tu connais Paul et Marie ?”  -> Result = \"Tu connais Paul et Marie ?\"  \n",
    "e) R.E. : “[\\s.] [A-Z]” Text : “Tu connais l’O.N.U. C’est difficile.” -> Result = \".N\"\n"
   ]
  },
  {
   "cell_type": "markdown",
   "id": "02be20d2",
   "metadata": {},
   "source": [
    "## Exercise 2"
   ]
  },
  {
   "cell_type": "code",
   "execution_count": 1,
   "id": "fc857106",
   "metadata": {},
   "outputs": [],
   "source": [
    "import re"
   ]
  },
  {
   "cell_type": "markdown",
   "id": "d36af9e0",
   "metadata": {},
   "source": [
    "### Questions 1 and 2"
   ]
  },
  {
   "cell_type": "code",
   "execution_count": 49,
   "id": "cc41a92f",
   "metadata": {},
   "outputs": [],
   "source": [
    "def find_all_occurrences(string, pat, group=0):\n",
    "    '''Function that displays all the instances of regular expression pat in string. It is also possible to specify the\n",
    "    group to be displayed, when multiple groups are existing.'''\n",
    "    for occ in pat.finditer(string):\n",
    "        if group <= pat.groups: # checking that this group exists\n",
    "            print(occ.group(group))\n",
    "        else:\n",
    "            print(\"Error: no such group\")\n",
    "            break"
   ]
  },
  {
   "cell_type": "code",
   "execution_count": 53,
   "id": "cf108d6b",
   "metadata": {},
   "outputs": [
    {
     "name": "stdout",
     "output_type": "stream",
     "text": [
      "e r\n",
      "eci\n",
      "e c\n",
      "err\n",
      "es \n"
     ]
    }
   ],
   "source": [
    "string = \"the recipe calls for 6 strawberries and 2 bananas\"\n",
    "pat = re.compile(r\"e..\")\n",
    "\n",
    "find_all_occurrences(string, pat)"
   ]
  },
  {
   "cell_type": "markdown",
   "id": "a8692c6f",
   "metadata": {},
   "source": [
    "### Question 3\n",
    "Adresse IP: 4 nombres compris entre 0 et 255, séparés par des points"
   ]
  },
  {
   "cell_type": "code",
   "execution_count": 121,
   "id": "cfe7ba0d",
   "metadata": {},
   "outputs": [
    {
     "name": "stdout",
     "output_type": "stream",
     "text": [
      "194.250.170.150 - - [18/Sep/2012:10:23:25 +0200]\n",
      "\\\"GET /eq_ped.html HTTP/1.0\\\" 304 -\n",
      "193.249.17.4 - - [18/Sep/2012:11:34:23 +0200]\n",
      "\\\"GET /igsi/ HTTP/1.1\\\" 200 11125\n",
      "193.249.17.4 - - [18/Sep/2012:11:34:27 +0200]\n",
      "\\\"GET /images/stSel.gif HTTP/1.1\\\" 200 1429\n",
      "<re.Match object; span=(0, 12), match='194.250.170.'>\n",
      "<re.Match object; span=(85, 96), match='193.249.17.'>\n",
      "<re.Match object; span=(165, 176), match='193.249.17.'>\n"
     ]
    }
   ],
   "source": [
    "with open(\"access.txt\", \"r\", encoding=\"utf-8\") as file:\n",
    "    text = file.read()\n",
    "    print(text)\n",
    "\n",
    "ip_pattern = re.compile(r\"(([01]\\d{0,2}|2[0-4]?\\d?|25[0-5])\\.){3}\")\n",
    "\n",
    "for f in ip_pattern.finditer(text):\n",
    "    print(f)\n"
   ]
  }
 ],
 "metadata": {
  "kernelspec": {
   "display_name": "Python 3 (ipykernel)",
   "language": "python",
   "name": "python3"
  },
  "language_info": {
   "codemirror_mode": {
    "name": "ipython",
    "version": 3
   },
   "file_extension": ".py",
   "mimetype": "text/x-python",
   "name": "python",
   "nbconvert_exporter": "python",
   "pygments_lexer": "ipython3",
   "version": "3.9.2"
  }
 },
 "nbformat": 4,
 "nbformat_minor": 5
}
