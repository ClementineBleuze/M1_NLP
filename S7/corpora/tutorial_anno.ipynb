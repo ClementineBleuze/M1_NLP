{
 "cells": [
  {
   "cell_type": "code",
   "execution_count": 3,
   "id": "6327c667",
   "metadata": {},
   "outputs": [],
   "source": [
    "import conllu\n",
    "\n",
    "def tags_of_file (file):\n",
    "    tags = []\n",
    "    with open(file,\"r\") as file:\n",
    "        c = conllu.parse(file.read())\n",
    "    \n",
    "        for tokenlist in c:\n",
    "            for token in tokenlist:\n",
    "                tags.append(token[\"upos\"])   \n",
    "    return (tags)\n"
   ]
  },
  {
   "cell_type": "code",
   "execution_count": 11,
   "id": "83a12d97",
   "metadata": {},
   "outputs": [],
   "source": [
    "def accuracy (gold_tags, annot_tags):\n",
    "    return (round(sum([1 if gold==annot else 0 for gold,annot in zip(gold_tags,annot_tags)])/len(gold_tags),3))"
   ]
  },
  {
   "cell_type": "code",
   "execution_count": 14,
   "id": "9716674e",
   "metadata": {},
   "outputs": [],
   "source": [
    "def prf (gold_tags, annot_tags, tag):\n",
    "    # Initialisation\n",
    "    prec, rec, fscore = 0,0,0\n",
    "    \n",
    "    correctly_annotated = sum([1 if gold==tag and annot==tag else 0 for gold,annot in zip(gold_tags,annot_tags)])\n",
    "    predicted, expected = annot_tags.count(tag), gold_tags.count(tag)\n",
    "    # Precision\n",
    "    if predicted!=0:\n",
    "        prec = correctly_annotated / predicted\n",
    "    \n",
    "    # Recall\n",
    "    if expected != 0:  \n",
    "        rec = correctly_annotated / expected\n",
    "        \n",
    "    # Fscore\n",
    "    if (prec + rec)!=0:\n",
    "        fscore = 2*(prec*rec)/(prec+rec)\n",
    "    \n",
    "    return (round(prec,3),round(rec,3),round(fscore,3))"
   ]
  },
  {
   "cell_type": "code",
   "execution_count": 13,
   "id": "e879d37f",
   "metadata": {},
   "outputs": [
    {
     "name": "stdout",
     "output_type": "stream",
     "text": [
      "0.932\n",
      "(0.8, 0.67, 0.73)\n"
     ]
    }
   ],
   "source": [
    "tags_A = tags_of_file(\"2022-wc/pos_eval/piano_001_A.conll\")\n",
    "tags_Gold = tags_of_file(\"2022-wc/pos_eval/piano_001_GOLD.conll\")\n",
    "\n",
    "print(accuracy(tags_Gold,tags_A))\n",
    "print(prf(tags_Gold,tags_A,\"ADV\"))"
   ]
  }
 ],
 "metadata": {
  "kernelspec": {
   "display_name": "Python 3 (ipykernel)",
   "language": "python",
   "name": "python3"
  },
  "language_info": {
   "codemirror_mode": {
    "name": "ipython",
    "version": 3
   },
   "file_extension": ".py",
   "mimetype": "text/x-python",
   "name": "python",
   "nbconvert_exporter": "python",
   "pygments_lexer": "ipython3",
   "version": "3.9.2"
  }
 },
 "nbformat": 4,
 "nbformat_minor": 5
}
