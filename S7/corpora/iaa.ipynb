{
 "cells": [
  {
   "cell_type": "code",
   "execution_count": 1,
   "id": "d500c730",
   "metadata": {},
   "outputs": [],
   "source": [
    "a1 = [\"I\", \"I\", \"J\", \"K\", \"K\", \"I\", \"J\", \"K\", \"J\", \"J\", \"I\", \"J\", \"J\", \"K\", \"J\", \"J\"]\n",
    "a2 = [\"I\", \"I\", \"K\", \"I\", \"K\", \"I\", \"I\", \"J\", \"J\", \"I\", \"K\", \"I\", \"J\", \"K\", \"I\", \"I\"]\n",
    "a3 = [\"I\", \"J\", \"J\", \"I\", \"K\", \"J\", \"J\", \"K\", \"I\", \"J\", \"K\", \"J\", \"I\", \"K\", \"J\", \"J\"]"
   ]
  },
  {
   "cell_type": "code",
   "execution_count": 2,
   "id": "94c38a74",
   "metadata": {},
   "outputs": [],
   "source": [
    "from nltk.metrics.agreement import AnnotationTask"
   ]
  },
  {
   "cell_type": "code",
   "execution_count": 3,
   "id": "d270c76f",
   "metadata": {},
   "outputs": [
    {
     "name": "stdout",
     "output_type": "stream",
     "text": [
      "[('A1', 0, 'I'), ('A1', 1, 'I'), ('A1', 2, 'J'), ('A1', 3, 'K'), ('A1', 4, 'K'), ('A1', 5, 'I'), ('A1', 6, 'J'), ('A1', 7, 'K'), ('A1', 8, 'J'), ('A1', 9, 'J'), ('A1', 10, 'I'), ('A1', 11, 'J'), ('A1', 12, 'J'), ('A1', 13, 'K'), ('A1', 14, 'J'), ('A1', 15, 'J')]\n"
     ]
    }
   ],
   "source": [
    "data_1 = [(\"A1\", index, anno) for index, anno in enumerate(a1)]\n",
    "data_2 = [(\"A2\", index, anno) for index, anno in enumerate(a2)]\n",
    "data_3 = [(\"A3\", index, anno) for index, anno in enumerate(a3)]\n",
    "print(data_1)"
   ]
  },
  {
   "cell_type": "code",
   "execution_count": 4,
   "id": "54321cab",
   "metadata": {},
   "outputs": [],
   "source": [
    "task_12 = AnnotationTask(data_1 + data_2)\n",
    "task_13 = AnnotationTask(data_1 + data_3)\n",
    "task_23 = AnnotationTask(data_2 + data_3)"
   ]
  },
  {
   "cell_type": "code",
   "execution_count": 11,
   "id": "ec29aeda",
   "metadata": {},
   "outputs": [
    {
     "name": "stdout",
     "output_type": "stream",
     "text": [
      "Annotators A1 and A2:\n",
      "A0: 0.4375\n",
      "S: 0.15625\n",
      "pi: 0.14029850746268657\n",
      "k: 0.2\n",
      "\n",
      "Annotators A1 and A3:\n",
      "A0: 0.625\n",
      "S: 0.4375\n",
      "pi: 0.4\n",
      "k: 0.4\n",
      "\n",
      "Annotators A2 and A3:\n",
      "A0: 0.3125\n",
      "S: -0.03124999999999997\n",
      "pi: -0.050746268656716415\n",
      "k: 0.022222222222222223\n",
      "\n"
     ]
    }
   ],
   "source": [
    "for task in [task_12, task_13, task_23]:\n",
    "    print(f\"Annotators {task.data[0]['coder']} and {task.data[-1]['coder']}:\")\n",
    "    print(f\"A0: {task.avg_Ao()}\")\n",
    "    print(f\"S: {task.S()}\")\n",
    "    print(f\"pi: {task.pi()}\")\n",
    "    print(f\"k: {task.kappa()}\\n\")"
   ]
  }
 ],
 "metadata": {
  "kernelspec": {
   "display_name": "Python 3 (ipykernel)",
   "language": "python",
   "name": "python3"
  },
  "language_info": {
   "codemirror_mode": {
    "name": "ipython",
    "version": 3
   },
   "file_extension": ".py",
   "mimetype": "text/x-python",
   "name": "python",
   "nbconvert_exporter": "python",
   "pygments_lexer": "ipython3",
   "version": "3.9.2"
  }
 },
 "nbformat": 4,
 "nbformat_minor": 5
}
