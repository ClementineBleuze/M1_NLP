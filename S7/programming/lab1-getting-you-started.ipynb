{
 "cells": [
  {
   "cell_type": "markdown",
   "metadata": {},
   "source": [
    "# Before we begin"
   ]
  },
  {
   "cell_type": "markdown",
   "metadata": {},
   "source": [
    "## Welcome to the lab sessions, roadmap and submission instructions\n",
    "\n",
    "### Roadmap\n",
    "\n",
    "<table>\n",
    "    <thead>\n",
    "        <tr>\n",
    "            <th>Lab #</th>\n",
    "            <th>Date</th>\n",
    "            <th>Topic</th>\n",
    "        </tr>\n",
    "    </thead>\n",
    "    <tbody>\n",
    "        <tr>\n",
    "            <td>Lab 1</td>\n",
    "            <td>16.09.2022</td>\n",
    "            <td>Welcome to Python</td>\n",
    "        </tr>\n",
    "        <tr>\n",
    "            <td>Lab 2</td>\n",
    "            <td>23.09.2022</td>\n",
    "            <td>Reviewing Syntax</td>\n",
    "        </tr>\n",
    "        <tr>\n",
    "            <td>Lab 3</td>\n",
    "            <td>30.09.2022</td>\n",
    "            <td>Strings</td>\n",
    "        </tr>\n",
    "        <tr>\n",
    "            <td>Lab 4</td>\n",
    "            <td>07.10.2022</td>\n",
    "            <td>Lists, tuples and dictionaries</td>\n",
    "        </tr>\n",
    "        <tr>\n",
    "            <td>Lab 5</td>\n",
    "            <td>18.11.2022</td>\n",
    "            <td>Functions</td>\n",
    "        </tr>\n",
    "        <tr>\n",
    "            <td>Lab 6</td>\n",
    "            <td>25.11.2022</td>\n",
    "            <td>Object-oriented programming (OOP) - basics</td>\n",
    "        </tr>\n",
    "        <tr>\n",
    "            <td>Lab 7</td>\n",
    "            <td>02.12.2022</td>\n",
    "            <td>More OOP</td>\n",
    "        </tr>\n",
    "        <tr>\n",
    "            <td>Lab 8</td>\n",
    "            <td>06.01.2023</td>\n",
    "            <td rowspan=2>Megalab: The wider Python ecosystem</td>\n",
    "        </tr>\n",
    "        <tr>\n",
    "            <td>Lab 9</td>\n",
    "            <td>13.01.2023</td>\n",
    "        </tr>\n",
    "    </tbody>\n",
    "</table>\n",
    "\n",
    "    \n",
    "### Grading\n",
    "    \n",
    "* For each lab, we will make available on Arche a Jupyter notebook with exercises. You will be required to submit some (typically two or three) of the exercises from the notebook and will have a week to do so. Details about which exercises to submit and what the exact deadline is will be available at the end of each notebook.\n",
    "* Lab 1 (this one) will not be graded, but we require you to submit it as well so you get familiar with the submission procedure through Arche. See the submission instructions at the bottom of this notebook.\n",
    "* **Labs 2-9 will be graded**. In the end you will have 8 grades - one for each lab (NB: for lab sessions 8 and 9 you will work on the same notebook, so the grade you get for it will be taken into account twice). For your final grade for the PythonProg labs, we will take only your **best 5 out of the 8 grades**. This will make up **30% of your final grade** for the course.\n",
    "* We will be posting the solution to each notebook right after the submission deadline. Therefore, **we will NOT accept late submissions**.\n",
    "\n",
    "### Evaluation criteria:\n",
    "* Running code - is your code running - make sure you test your code before submitting\n",
    "* Correct code - is your code running correctly, does it solve the problem it is expected to solve\n",
    "* Well documented and commented code - do your functions have docstrings, does your code have comments (NB: there's no need to add comments for each line of code, but e.g. a short explanation of what a specific sections of your code do is good practice)\n",
    "* Pythonic code (check the Zen of Python exercise for an idea of what this means)\n",
    "\n",
    "Here is a typical example of what is non-Pythonic code (you may be tempted to use this if you are more used to C/C++/Java, but don't!):\n",
    "\n",
    "```Python\n",
    "for i in range(len(my_list)):\n",
    "    print(my_list[i])\n",
    "```\n",
    "\n",
    "Avoid the above. Instead, in Python we would write this:\n",
    "```Python\n",
    "for item in my_list:\n",
    "    print(item) \n",
    "```"
   ]
  },
  {
   "cell_type": "markdown",
   "metadata": {},
   "source": [
    "# Lab 1: Welcome to Python!"
   ]
  },
  {
   "cell_type": "markdown",
   "metadata": {},
   "source": [
    "## Goals\n",
    "Welcome to your first lab day! These practical sessions are designed to be your opportunity to experiment with Python and gain hands-on experience with the language.\n",
    "\n",
    "The primary goal of this lab is to ensure that your Python installation process went smoothly, and that there are no lingering Python 3 bugs floating around. Don't be shy, and make sure to speak out if you encounter any issues: tutors are here to help.\n",
    "\n",
    "This lab also gives you the chance to write what might be your first programs in Python and allows you to experiment with both scripts and with the interactive interpreter!\n",
    "\n",
    "These problems are not intended to be algorithmically challenging - just ways to flex your new Python 3 muscles.\n",
    "\n",
    "Finally, since this first lab is not graded, it is also an opportunity for you to test submitting through Arche!\n",
    "\n",
    "Have fun!"
   ]
  },
  {
   "cell_type": "markdown",
   "metadata": {},
   "source": [
    "### A first exercise to make sure you get the point:\n",
    "\n",
    "* Declare a variable called `something_very_important` that stores the value `42`"
   ]
  },
  {
   "cell_type": "code",
   "execution_count": 1,
   "metadata": {},
   "outputs": [],
   "source": [
    "# write your code here\n",
    "something_very_important = 42"
   ]
  },
  {
   "cell_type": "markdown",
   "metadata": {},
   "source": [
    "* Create a function called `my_add_function(a, b)`, that takes two integers and returns their sum:"
   ]
  },
  {
   "cell_type": "code",
   "execution_count": 2,
   "metadata": {},
   "outputs": [
    {
     "name": "stdout",
     "output_type": "stream",
     "text": [
      "44\n"
     ]
    }
   ],
   "source": [
    "# write your code here\n",
    "def my_add_function(a,b):\n",
    "    return a+b\n",
    "# testing\n",
    "print(my_add_function(something_very_important, 2))"
   ]
  },
  {
   "cell_type": "markdown",
   "metadata": {},
   "source": [
    "**NB:** You might have noticed that we name functions and variables with lowercased words separated by underscores (`_`). It's a naming convention widely shared across the Python community, and it's good practice for you to also follow this pattern!"
   ]
  },
  {
   "cell_type": "markdown",
   "metadata": {},
   "source": [
    "## Common mistakes\n",
    "\n",
    "Here is a list of mistakes we frequently encounter when reviewing your work.\n",
    "\n",
    "1. `print(result)` **instead of** `return result`. While these two might seem to produce the same thing, they are actually quite different. Whatever you pass to the `print()` function will be displayed on screen. When you use the `return` keyword, you stop the execution of a function and pass on its result to the script for further work.\n",
    "1. **Type mismatches!** When you test a function you've implemented, make sure that the arguments are of the correct type. For instance, the string `\"42\"` is different from the integer `42`. Python has a function `type(x)` that will tell you the type of the argument `x`.\n",
    "1. problems with Jupyter code **cells execution order**. While Jupyter is awesome when it comes to fiddling with script, often, you may be tempted to edit some code you've written in a previous cell, run this previous cell, and then go back to work wherever you were before that. As a result, other cells that depended on the previous implementation might cease to function properly! As a rule of thumb, you should make sure that cells are executed from top to bottom. **Tip:** the number in square brackets next to a code cell corresponds to the order in which you've ran the code cells.\n",
    "1. **Not testing your code after you've tweaked it.** Many, many silly mistakes come from not running your code once after doing \"just a simple modification\". Always test!"
   ]
  },
  {
   "cell_type": "markdown",
   "metadata": {},
   "source": [
    "### Another exercise to make sure you get the point\n",
    "\n",
    "Have a look at the instructions in the following code cell, and try to predict what they will produce. You can run the code to check your answers using the `Run` button."
   ]
  },
  {
   "cell_type": "code",
   "execution_count": 4,
   "metadata": {},
   "outputs": [
    {
     "name": "stdout",
     "output_type": "stream",
     "text": [
      "42\n"
     ]
    },
    {
     "data": {
      "text/plain": [
       "'3210'"
      ]
     },
     "execution_count": 4,
     "metadata": {},
     "output_type": "execute_result"
    }
   ],
   "source": [
    "print(something_very_important) == my_add_function(32, 10) #first prints \"42\" then nothing \n",
    "my_add_function(\"32\", \"10\") #prints the concatenation of the two strings"
   ]
  },
  {
   "cell_type": "markdown",
   "metadata": {},
   "source": [
    "## Zen of Python\n",
    "\n",
    "Run the following code cell by selecting the cell and pressing Shift+Enter.\n"
   ]
  },
  {
   "cell_type": "code",
   "execution_count": 5,
   "metadata": {},
   "outputs": [
    {
     "name": "stdout",
     "output_type": "stream",
     "text": [
      "The Zen of Python, by Tim Peters\n",
      "\n",
      "Beautiful is better than ugly.\n",
      "Explicit is better than implicit.\n",
      "Simple is better than complex.\n",
      "Complex is better than complicated.\n",
      "Flat is better than nested.\n",
      "Sparse is better than dense.\n",
      "Readability counts.\n",
      "Special cases aren't special enough to break the rules.\n",
      "Although practicality beats purity.\n",
      "Errors should never pass silently.\n",
      "Unless explicitly silenced.\n",
      "In the face of ambiguity, refuse the temptation to guess.\n",
      "There should be one-- and preferably only one --obvious way to do it.\n",
      "Although that way may not be obvious at first unless you're Dutch.\n",
      "Now is better than never.\n",
      "Although never is often better than *right* now.\n",
      "If the implementation is hard to explain, it's a bad idea.\n",
      "If the implementation is easy to explain, it may be a good idea.\n",
      "Namespaces are one honking great idea -- let's do more of those!\n"
     ]
    }
   ],
   "source": [
    "import this"
   ]
  },
  {
   "cell_type": "markdown",
   "metadata": {},
   "source": [
    "## Hello World\n",
    "\n",
    "Edit the following cell so that it prints `\"Hello, world!\"` when executed."
   ]
  },
  {
   "cell_type": "code",
   "execution_count": 6,
   "metadata": {},
   "outputs": [
    {
     "name": "stdout",
     "output_type": "stream",
     "text": [
      "Hello, world!\n"
     ]
    }
   ],
   "source": [
    "# write your code here\n",
    "print(\"Hello, world!\")"
   ]
  },
  {
   "cell_type": "markdown",
   "metadata": {},
   "source": [
    "### Fizz, Buzz, FizzBuzz!\n",
    "If we list all of the natural numbers under 41 that are a multiple of 3 or 5, we get\n",
    "\n",
    "```\n",
    " 3,  5,  6,  9, 10, 12, 15,\n",
    "18, 20, 21, 24, 25, 27, 30,\n",
    "33, 35, 36, 39, 40\n",
    "```\n",
    "\n",
    "The sum of these numbers is 408.\n",
    "\n",
    "Immplement a function called `fizzbuzz(n)` and use it to find the sum of all the multiples of 3 or 5 below 1001."
   ]
  },
  {
   "cell_type": "code",
   "execution_count": 8,
   "metadata": {},
   "outputs": [
    {
     "data": {
      "text/plain": [
       "234168"
      ]
     },
     "execution_count": 8,
     "metadata": {},
     "output_type": "execute_result"
    }
   ],
   "source": [
    "def fizzbuzz(n):\n",
    "    \"\"\"Returns the sum of all numbers < `n` divisible by 3 or 5.\"\"\"\n",
    "    sum = 0\n",
    "    for nb in range(0,n):\n",
    "        if nb%3 == 0 or nb%5 == 0:\n",
    "            sum += nb\n",
    "    return sum\n",
    "\n",
    "fizzbuzz(1001)"
   ]
  },
  {
   "cell_type": "markdown",
   "metadata": {},
   "source": [
    "### Fahrenheit-to-Celsius converter\n",
    "Write a program to convert degrees Fahrenheit to degrees Celcius which (1) takes as argument a number (not necessarily integral) representing the current temperature in degrees Fahrenheit, (2) converts that value into the equivalent degrees Celsius, and (3) **prints** the final equivalent value.\n",
    "\n",
    "For example, your program should be able to emulate the following three sample runs:\n",
    "\n",
    "```\n",
    "Temperature F? 212\n",
    "It is 100.0 degrees Celsius.\n",
    "\n",
    "Temperature F? 98.6\n",
    "It is 37.0 degrees Celsius.\n",
    "\n",
    "Temperature F? 10\n",
    "It is -12.222222222222221 degrees Celsius.\n",
    "```\n",
    "\n",
    "Want to be fancy (challenge)? Try to print the final temperature to two decimal places. *Hint: Take a look at the [`round()`](https://docs.python.org/3.4/library/functions.html#round) function. Isn't Python great?*"
   ]
  },
  {
   "cell_type": "code",
   "execution_count": 18,
   "metadata": {},
   "outputs": [
    {
     "name": "stdout",
     "output_type": "stream",
     "text": [
      "Temperature F ? 212\n",
      "It is 100.0 degrees Celsius.\n"
     ]
    }
   ],
   "source": [
    "def convert_fahr_to_cels(deg_fahr):\n",
    "    \"\"\"Prints the temperature in degrees Celsius\"\"\"\n",
    "    \n",
    "    print(f\"Temperature F ? {deg_fahr}\")\n",
    "    deg_cel = (deg_fahr - 32) * 5/9\n",
    "    print(f\"It is {round(deg_cel, 2)} degrees Celsius.\")\n",
    "\n",
    "convert_fahr_to_cels(212)"
   ]
  },
  {
   "cell_type": "markdown",
   "metadata": {},
   "source": [
    "## Bonus Challenges\n",
    "\n",
    "Don't worry about getting to these bonus problems. In most cases, bonus questions ask you to think more critically or use more advanced algorithms. "
   ]
  },
  {
   "cell_type": "markdown",
   "metadata": {},
   "source": [
    "### Zen Printing\n",
    "\n",
    "Write a series of instructions using `print()` that, when run, prints out a tic-tac-toe board.\n",
    "\n",
    "````\n",
    " X | . | . \n",
    "-----------\n",
    " . | O | . \n",
    "-----------\n",
    " . | O | X \n",
    "````\n",
    "\n",
    "You may find the optional arguments to `print()` useful, which you can read about [here](https://docs.python.org/3/library/functions.html#print). In no more than five minutes, try to use these optional arguments to print out this particular tic-tac-toe board."
   ]
  },
  {
   "cell_type": "code",
   "execution_count": 42,
   "metadata": {},
   "outputs": [
    {
     "name": "stdout",
     "output_type": "stream",
     "text": [
      " X | . | .\n",
      "-----------\n",
      " . | O | .\n",
      "-----------\n",
      " . | O | X\n"
     ]
    }
   ],
   "source": [
    "# Print a tic-tac-toe board using optional arguments.\n",
    "def print_tic_tac_toe():\n",
    "    print(\" X\", \".\", \".\", sep = \" | \")\n",
    "    print(\"-\"*11)\n",
    "    print(\" .\", \"O\", \".\", sep = \" | \")\n",
    "    print(\"-\"*11)\n",
    "    print(\" .\", \"O\", \"X\", sep = \" | \")\n",
    "    \n",
    "\n",
    "print_tic_tac_toe()"
   ]
  },
  {
   "cell_type": "markdown",
   "metadata": {},
   "source": [
    "Maybe you were able to print out the tic-tac-toe board. Maybe not. In the five minutes you've been working on that, I've gotten bored with normal tic-tac-toe (too many ties!) so now, I want to play SUPER tic-tac-toe.\n",
    "\n",
    "Write a program that prints out a SUPER tic-tac-toe board.\n",
    "\n",
    "```\n",
    "  |  |  H  |  |  H  |  |  \n",
    "--+--+--H--+--+--H--+--+--\n",
    "  |  |  H  |  |  H  |  |  \n",
    "--+--+--H--+--+--H--+--+--\n",
    "  |  |  H  |  |  H  |  |  \n",
    "========+========+========\n",
    "  |  |  H  |  |  H  |  |  \n",
    "--+--+--H--+--+--H--+--+--\n",
    "  |  |  H  |  |  H  |  |  \n",
    "--+--+--H--+--+--H--+--+--\n",
    "  |  |  H  |  |  H  |  |  \n",
    "========+========+========\n",
    "  |  |  H  |  |  H  |  |  \n",
    "--+--+--H--+--+--H--+--+--\n",
    "  |  |  H  |  |  H  |  |  \n",
    "--+--+--H--+--+--H--+--+--\n",
    "  |  |  H  |  |  H  |  |  \n",
    "```\n",
    "\n",
    "You'll find that there might be many ways to solve this problem. Which do you think is the most 'pythonic?' Talk to someone next to you about your approach to this problem. Remember the Zen of Python!"
   ]
  },
  {
   "cell_type": "code",
   "execution_count": 67,
   "metadata": {},
   "outputs": [
    {
     "name": "stdout",
     "output_type": "stream",
     "text": [
      "  |  |  H  |  |  H  |  |\n",
      "--+--+--H--+--+--H--+--+\n",
      "  |  |  H  |  |  H  |  |\n",
      "--+--+--H--+--+--H--+--+\n",
      "  |  |  H  |  |  H  |  |\n",
      "========+========+========\n",
      "  |  |  H  |  |  H  |  |\n",
      "--+--+--H--+--+--H--+--+\n",
      "  |  |  H  |  |  H  |  |\n",
      "--+--+--H--+--+--H--+--+\n",
      "  |  |  H  |  |  H  |  |\n",
      "========+========+========\n",
      "  |  |  H  |  |  H  |  |\n",
      "--+--+--H--+--+--H--+--+\n",
      "  |  |  H  |  |  H  |  |\n",
      "--+--+--H--+--+--H--+--+\n",
      "  |  |  H  |  |  H  |  |\n",
      "\n",
      "Even bigger:\n",
      "\n",
      "  |  |  H  |  |  H  |  |  H  |  |  H  |  |\n",
      "--+--+--H--+--+--H--+--+--H--+--+--H--+--+\n",
      "  |  |  H  |  |  H  |  |  H  |  |  H  |  |\n",
      "--+--+--H--+--+--H--+--+--H--+--+--H--+--+\n",
      "  |  |  H  |  |  H  |  |  H  |  |  H  |  |\n",
      "========+========+========+========+========\n",
      "  |  |  H  |  |  H  |  |  H  |  |  H  |  |\n",
      "--+--+--H--+--+--H--+--+--H--+--+--H--+--+\n",
      "  |  |  H  |  |  H  |  |  H  |  |  H  |  |\n",
      "--+--+--H--+--+--H--+--+--H--+--+--H--+--+\n",
      "  |  |  H  |  |  H  |  |  H  |  |  H  |  |\n",
      "========+========+========+========+========\n",
      "  |  |  H  |  |  H  |  |  H  |  |  H  |  |\n",
      "--+--+--H--+--+--H--+--+--H--+--+--H--+--+\n",
      "  |  |  H  |  |  H  |  |  H  |  |  H  |  |\n",
      "--+--+--H--+--+--H--+--+--H--+--+--H--+--+\n",
      "  |  |  H  |  |  H  |  |  H  |  |  H  |  |\n",
      "========+========+========+========+========\n",
      "  |  |  H  |  |  H  |  |  H  |  |  H  |  |\n",
      "--+--+--H--+--+--H--+--+--H--+--+--H--+--+\n",
      "  |  |  H  |  |  H  |  |  H  |  |  H  |  |\n",
      "--+--+--H--+--+--H--+--+--H--+--+--H--+--+\n",
      "  |  |  H  |  |  H  |  |  H  |  |  H  |  |\n",
      "========+========+========+========+========\n",
      "  |  |  H  |  |  H  |  |  H  |  |  H  |  |\n",
      "--+--+--H--+--+--H--+--+--H--+--+--H--+--+\n",
      "  |  |  H  |  |  H  |  |  H  |  |  H  |  |\n",
      "--+--+--H--+--+--H--+--+--H--+--+--H--+--+\n",
      "  |  |  H  |  |  H  |  |  H  |  |  H  |  |\n"
     ]
    }
   ],
   "source": [
    "# I want my SUPER tic-tac-toe and I want it now!\n",
    "def print_super_tic_tac_toe(nb_rows, nb_cols):\n",
    "    \"\"\"Prints a SUPER tic tac toe with a nb_row*nb_cols dimensions grid\"\"\"\n",
    "    \n",
    "    # symbols displayed on one single line of the row\n",
    "    symbols_to_play=[\"|\", \"|\", \"H\"]*(nb_cols -1)\n",
    "    symbols_to_play.extend([\"|\",\"|\"])\n",
    "    \n",
    "    # symbols for separating lines in one row\n",
    "    symbols_sep = [\"+\", \"+\", \"H\"]*(nb_cols - 1)\n",
    "    symbols_sep.extend([\"+\", \"+\"])\n",
    "    \n",
    "    # symbols for separating rows\n",
    "    big_separator_symbols=[\"========\", \"+\"]*(nb_cols - 1)\n",
    "    big_separator_symbols.extend([\"========\"])\n",
    "    \n",
    "    # printing a row \n",
    "    for row in range(nb_rows):\n",
    "        \n",
    "        for i in range(3):\n",
    "\n",
    "            for symb in symbols_to_play:\n",
    "                print(f\"  {symb}\", end=\"\")\n",
    "\n",
    "            print(\"\", end=\"\\n\")\n",
    "\n",
    "            if i != 2:\n",
    "                for symb in symbols_sep:\n",
    "                    print(f\"--{symb}\", end=\"\")\n",
    "                print(\"\", end=\"\\n\")\n",
    "                \n",
    "        if row != nb_rows - 1:\n",
    "            for symb in big_separator_symbols:\n",
    "                print(f\"{symb}\", end=\"\")\n",
    "            print(\"\", end=\"\\n\")\n",
    "            \n",
    "    \n",
    "\n",
    "print_super_tic_tac_toe(3,3)\n",
    "print(\"\\nEven bigger:\\n\")\n",
    "print_super_tic_tac_toe(5,5)\n"
   ]
  },
  {
   "cell_type": "markdown",
   "metadata": {},
   "source": [
    "## Done Early?\n",
    "\n",
    "Read [Python’s Style Guide](https://www.python.org/dev/peps/pep-0008/), keeping the Zen of Python in mind. In what ways do you notice that Python's style guidelines are influence by Python's core philosophy? Some portions of the style guide cover language features that we haven't yet touched on in class - feel free to skip over those sections for now."
   ]
  },
  {
   "cell_type": "markdown",
   "metadata": {},
   "source": [
    "## Printing with format\n",
    "\n",
    "There are three ways of formatting strings in Python"
   ]
  },
  {
   "cell_type": "code",
   "execution_count": 68,
   "metadata": {},
   "outputs": [
    {
     "data": {
      "text/plain": [
       "'Hello James'"
      ]
     },
     "execution_count": 68,
     "metadata": {},
     "output_type": "execute_result"
    }
   ],
   "source": [
    "name = 'James'\n",
    "'Hello %s' %name"
   ]
  },
  {
   "cell_type": "code",
   "execution_count": 69,
   "metadata": {},
   "outputs": [
    {
     "data": {
      "text/plain": [
       "'My name is Bond, James Bond'"
      ]
     },
     "execution_count": 69,
     "metadata": {},
     "output_type": "execute_result"
    }
   ],
   "source": [
    "'My name is {1}, {0} {1}'.format('James', 'Bond')"
   ]
  },
  {
   "cell_type": "code",
   "execution_count": 70,
   "metadata": {},
   "outputs": [
    {
     "name": "stdout",
     "output_type": "stream",
     "text": [
      "I am {age} year old\n",
      "I am 21 year old\n"
     ]
    }
   ],
   "source": [
    "age = 21\n",
    "print('I am {age} year old')\n",
    "print(f'I am {age} year old')"
   ]
  },
  {
   "cell_type": "markdown",
   "metadata": {},
   "source": [
    "you can also control the printing, for example if you yan to print the value of Pi with two digits.\n",
    "\n",
    "First, import math. You can access to the value with \n",
    "\n",
    "'>>> math.pi'\n"
   ]
  },
  {
   "cell_type": "code",
   "execution_count": 75,
   "metadata": {},
   "outputs": [
    {
     "name": "stdout",
     "output_type": "stream",
     "text": [
      "pi: 3.141593 \n",
      "short pi: 3.14 \n",
      "even shorter pi: 3.1\n"
     ]
    }
   ],
   "source": [
    "import math\n",
    "print('pi: %f \\nshort pi: %0.2f \\neven shorter pi: %0.1f' % (math.pi, math.pi, math.pi))"
   ]
  },
  {
   "cell_type": "markdown",
   "metadata": {},
   "source": [
    "Please, refer to the mini language guide line\n",
    "https://docs.python.org/3/library/string.html#formatspec"
   ]
  },
  {
   "cell_type": "markdown",
   "metadata": {},
   "source": [
    "Write a program to print the sqare root of the parameter of the function such that it prints the parameter with 2 digits and the sqare root with three."
   ]
  },
  {
   "cell_type": "code",
   "execution_count": 80,
   "metadata": {},
   "outputs": [],
   "source": [
    "from math import sqrt\n",
    "\n",
    "def sq_root (n):\n",
    "    print(\"The square root of %0.2f is %0.3f\" % (n, sqrt(n)))"
   ]
  },
  {
   "cell_type": "markdown",
   "metadata": {},
   "source": [
    "such that\n",
    "\n",
    "`sq_root(26)` prints\n",
    "\n",
    "The square root of 26.00 is 5.099\n"
   ]
  },
  {
   "cell_type": "code",
   "execution_count": 81,
   "metadata": {},
   "outputs": [
    {
     "name": "stdout",
     "output_type": "stream",
     "text": [
      "The square root of 26.00 is 5.099\n"
     ]
    }
   ],
   "source": [
    "sq_root(26)"
   ]
  },
  {
   "cell_type": "markdown",
   "metadata": {},
   "source": [
    "## Submission instructions\n",
    "\n",
    "Alright, you did it! \n",
    "\n",
    "You will need to submit the exercises from this lab session on Arche before 9:59am on Friday, 23rd September (just before our next lab session). You may submit either a `.py` or an `.ipynb` file, named `td1_firstname_lastname.py` or `td1_firstname_lastname.ipynb` accordingly, where `firstname` should be your first name and `lastname` should be your last name (e.g. Jane Doe's submission should be called `td1_jane_doe.py` or `td1_jane_doe.ipynb`, depending on whether Jane submitted a Python script or a Jupyter notebook).\n",
    "\n",
    "**NB**: to convert a Jupyter notebook to a python script, go to `File -> Export Notebook As... -> Executable Script` or `File -> Download As -> Python (.py)`, depending on your operating system. Simply changing the file extension will **not** do the job."
   ]
  },
  {
   "cell_type": "markdown",
   "metadata": {},
   "source": [
    "*Adapted in part from Stanford CS41 course.*\n",
    "\n",
    "*Credit to ProjectEuler and InterviewCake for some problem ideas.*\n",
    "\n",
    "> With <3 by @sredmond"
   ]
  }
 ],
 "metadata": {
  "kernelspec": {
   "display_name": "Python 3 (ipykernel)",
   "language": "python",
   "name": "python3"
  },
  "language_info": {
   "codemirror_mode": {
    "name": "ipython",
    "version": 3
   },
   "file_extension": ".py",
   "mimetype": "text/x-python",
   "name": "python",
   "nbconvert_exporter": "python",
   "pygments_lexer": "ipython3",
   "version": "3.9.2"
  }
 },
 "nbformat": 4,
 "nbformat_minor": 4
}
