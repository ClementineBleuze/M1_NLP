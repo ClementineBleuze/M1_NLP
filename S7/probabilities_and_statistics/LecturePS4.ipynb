{
 "cells": [
  {
   "cell_type": "markdown",
   "metadata": {
    "id": "wmZXRr5xRO6n"
   },
   "source": [
    "## **Two sample z test** "
   ]
  },
  {
   "cell_type": "markdown",
   "metadata": {
    "id": "KsuPw3y0RaUX"
   },
   "source": [
    "We want to know if Class1's average score on 20 marks is better than Class2's. We have the information that the standard deviation for the two classes equal $2.05$. Then we collect the data of 20 students of Class1 and 20 students of Class2 by using random samples and record their marks. Finally, we also set our $\\alpha$ value (significance level) to be 0.05."
   ]
  },
  {
   "cell_type": "code",
   "execution_count": 1,
   "metadata": {
    "id": "PRvrX4JyRiKJ"
   },
   "outputs": [],
   "source": [
    "import numpy as np\n",
    "class1=np.array([13. , 14.6, 10.2, 13.4,  9.6, 16. , 13.8, 10.6, 11.8, 12.4, 14.2,\n",
    "       13.4, 12.8, 15.6, 13. ,  9.8, 16. , 12. , 10.2, 14. ])\n",
    "class2=np.array([12.6 , 14.4 ,  9.2, 12.6,  8.8 , 15.6, 13.4, 10.4, 10.9,\n",
    "       11.6, 13.5, 13, 12.6, 15.4, 12.3 ,  9.3, 15.6, 11.3,9.8, 13. ])"
   ]
  },
  {
   "cell_type": "markdown",
   "metadata": {
    "id": "KfXDA-0uUVmz"
   },
   "source": [
    "We want to test the hypothesis $\\mu_1=\\mu_2$ vs $\\mu_1>\\mu_2$ (Class1 is better than Class2)"
   ]
  },
  {
   "cell_type": "code",
   "execution_count": 2,
   "metadata": {
    "colab": {
     "base_uri": "https://localhost:8080/"
    },
    "id": "edJRdO72UiO-",
    "outputId": "654bacc2-dcc3-483a-9be5-fce20d993831"
   },
   "outputs": [
    {
     "data": {
      "text/plain": [
       "[12.819999999999999, 12.265000000000002]"
      ]
     },
     "execution_count": 2,
     "metadata": {},
     "output_type": "execute_result"
    }
   ],
   "source": [
    "m1=np.mean(class1)\n",
    "m2=np.mean(class2)\n",
    "[m1,m2]"
   ]
  },
  {
   "cell_type": "markdown",
   "metadata": {
    "id": "aIhTu0rqUIbB"
   },
   "source": [
    "We now calculate the z score \n",
    "$\\frac{}{}$  \n"
   ]
  },
  {
   "cell_type": "code",
   "execution_count": 55,
   "metadata": {
    "colab": {
     "base_uri": "https://localhost:8080/"
    },
    "id": "P9jLf341Upsx",
    "outputId": "9b821dba-58f5-4a93-acd4-81ccf9802808"
   },
   "outputs": [
    {
     "data": {
      "text/plain": [
       "0.8561288299480188"
      ]
     },
     "execution_count": 55,
     "metadata": {},
     "output_type": "execute_result"
    }
   ],
   "source": [
    "z=(m1-m2)/np.sqrt(2.05**2/20+2.05**2/20)\n",
    "z"
   ]
  },
  {
   "cell_type": "markdown",
   "metadata": {
    "id": "QDjSDbaxVeg3"
   },
   "source": [
    "Critical region of the test if $\\alpha=0.05$"
   ]
  },
  {
   "cell_type": "code",
   "execution_count": 43,
   "metadata": {
    "colab": {
     "base_uri": "https://localhost:8080/"
    },
    "id": "AXrLwIijViei",
    "outputId": "990361cd-2998-402f-8281-9e49ba7320d6"
   },
   "outputs": [
    {
     "data": {
      "text/plain": [
       "1.6448536269514722"
      ]
     },
     "execution_count": 43,
     "metadata": {},
     "output_type": "execute_result"
    }
   ],
   "source": [
    "zcritical=norm.ppf(1-0.05)\n",
    "zcritical"
   ]
  },
  {
   "cell_type": "markdown",
   "metadata": {
    "id": "qAuL9Gq9Vuyw"
   },
   "source": [
    "We accept $H_0$, equality of means since $z\\leq zcritical$"
   ]
  },
  {
   "cell_type": "markdown",
   "metadata": {
    "id": "VzONE2RgV3Fc"
   },
   "source": [
    "The p value method"
   ]
  },
  {
   "cell_type": "markdown",
   "metadata": {
    "id": "AWvtje7PWnMG"
   },
   "source": [
    "https://www.statsmodels.org/stable/generated/statsmodels.stats.weightstats.ztest.html"
   ]
  },
  {
   "cell_type": "code",
   "execution_count": 49,
   "metadata": {
    "colab": {
     "base_uri": "https://localhost:8080/"
    },
    "id": "VD3i_tUkVX4O",
    "outputId": "bc2c5103-c334-4776-c564-f8ffd4f2a10b"
   },
   "outputs": [
    {
     "data": {
      "text/plain": [
       "[0.8553191251187071, 0.39237450259254825]"
      ]
     },
     "execution_count": 49,
     "metadata": {},
     "output_type": "execute_result"
    }
   ],
   "source": [
    "from statsmodels.stats.weightstats import ztest as ztest\n",
    "zscore,pvalue=ztest(class1, class2,value=0)\n",
    "[zscore,pvalue]"
   ]
  },
  {
   "cell_type": "markdown",
   "metadata": {
    "id": "fAnSTy_dXgz4"
   },
   "source": [
    "We accept the assumption of equality of means"
   ]
  },
  {
   "cell_type": "markdown",
   "metadata": {
    "id": "SuHME1yFlKft"
   },
   "source": [
    "## **Two sample t-test**"
   ]
  },
  {
   "cell_type": "markdown",
   "metadata": {
    "id": "xdxJJn3mkT0j"
   },
   "source": [
    "t-test in case of equality of unkown variances"
   ]
  },
  {
   "cell_type": "markdown",
   "metadata": {
    "id": "YJJQhCBliaAL"
   },
   "source": [
    "Researchers want to know whether or not two different species of plants have the same mean height. To test this, they collect a simple random sample of 20 plants from each species.\n",
    "\n",
    "Use the following steps to conduct a two sample t-test to determine if the two species of plants have the same height."
   ]
  },
  {
   "cell_type": "markdown",
   "metadata": {
    "id": "caGqlvy4ie-S"
   },
   "source": [
    "Data"
   ]
  },
  {
   "cell_type": "code",
   "execution_count": 6,
   "metadata": {
    "id": "-hj5PLdyiboq"
   },
   "outputs": [],
   "source": [
    "import numpy as np\n",
    "\n",
    "group1 = np.array([14, 15, 15, 16, 13, 8, 14, 17, 16, 14, 19, 20, 21, 15, 15, 16, 16, 13, 14, 12])\n",
    "group2 = np.array([15, 17, 14, 17, 14, 8, 12, 19, 19, 14, 17, 22, 24, 16, 13, 16, 13, 18, 15, 13])"
   ]
  },
  {
   "cell_type": "markdown",
   "metadata": {
    "id": "MsCE41WQrZ9S"
   },
   "source": [
    "Method 1 : the critical region method"
   ]
  },
  {
   "cell_type": "code",
   "execution_count": 13,
   "metadata": {
    "colab": {
     "base_uri": "https://localhost:8080/"
    },
    "id": "akpKcyVWreJC",
    "outputId": "cfb5b36e-5cef-44b4-9631-8a454369a26f"
   },
   "outputs": [
    {
     "data": {
      "text/plain": [
       "[15.15, 15.8]"
      ]
     },
     "execution_count": 13,
     "metadata": {},
     "output_type": "execute_result"
    }
   ],
   "source": [
    "[m1,m2]=[np.mean(group1),np.mean(group2)]\n",
    "[m1,m2]"
   ]
  },
  {
   "cell_type": "code",
   "execution_count": 14,
   "metadata": {
    "colab": {
     "base_uri": "https://localhost:8080/"
    },
    "id": "RfKJhy3rsr-w",
    "outputId": "e3904801-80df-436e-a7cf-8a3a1de93152"
   },
   "outputs": [
    {
     "data": {
      "text/plain": [
       "[2.7798381247835278, 3.5014282800023193]"
      ]
     },
     "execution_count": 14,
     "metadata": {},
     "output_type": "execute_result"
    }
   ],
   "source": [
    "[s1,s2]=[np.std(group1),np.std(group2)]\n",
    "[s1,s2]"
   ]
  },
  {
   "cell_type": "code",
   "execution_count": 15,
   "metadata": {
    "colab": {
     "base_uri": "https://localhost:8080/"
    },
    "id": "VmVylZaos_SH",
    "outputId": "19b25cd8-783c-49ed-e56d-fa7cea880c41"
   },
   "outputs": [
    {
     "data": {
      "text/plain": [
       "[2.852053738328889, 3.592389616661135]"
      ]
     },
     "execution_count": 15,
     "metadata": {},
     "output_type": "execute_result"
    }
   ],
   "source": [
    "[sp1,sp2]=[np.std(group1,ddof=1),np.std(group2,ddof=1)]\n",
    "[sp1,sp2]"
   ]
  },
  {
   "cell_type": "markdown",
   "metadata": {
    "id": "9k3YxtHjrWpS"
   },
   "source": [
    "Method 2 : the p-value method"
   ]
  },
  {
   "cell_type": "markdown",
   "metadata": {
    "id": "2d8eJT4finOU"
   },
   "source": [
    "Performing a t-test"
   ]
  },
  {
   "cell_type": "markdown",
   "metadata": {
    "id": "uK8RBh3Vj0Lv"
   },
   "source": [
    "The two hypotheses for this particular two sample t-test are as follows:"
   ]
  },
  {
   "cell_type": "markdown",
   "metadata": {
    "id": "oettPhr5j2X3"
   },
   "source": [
    "$H_0$: $\\mu_1 = \\mu_2$ (the two population means are equal)"
   ]
  },
  {
   "cell_type": "markdown",
   "metadata": {
    "id": "cvBxlKRmj-Nh"
   },
   "source": [
    "$H_A$: $\\mu_1\\neq \\mu_2$ (the two population means are not equal)"
   ]
  },
  {
   "cell_type": "markdown",
   "metadata": {
    "id": "SovpbTB1ivyF"
   },
   "source": [
    "https://docs.scipy.org/doc/scipy/reference/generated/scipy.stats.ttest_ind.html"
   ]
  },
  {
   "cell_type": "markdown",
   "metadata": {
    "id": "98tD5R8Tjmto"
   },
   "source": [
    "First, we have to decide if the variances are equal or not "
   ]
  },
  {
   "cell_type": "markdown",
   "metadata": {
    "id": "AJNs1cgWi3ez"
   },
   "source": [
    "Test the equality of variance? If we know that we have Gaussian data we may use a Fisher test"
   ]
  },
  {
   "cell_type": "code",
   "execution_count": 22,
   "metadata": {
    "colab": {
     "base_uri": "https://localhost:8080/"
    },
    "id": "NUQU3fifm1yF",
    "outputId": "a8a6f14d-7c88-4adb-d713-387aa0cec56a"
   },
   "outputs": [
    {
     "data": {
      "text/plain": [
       "0.1614538528876288"
      ]
     },
     "execution_count": 22,
     "metadata": {},
     "output_type": "execute_result"
    }
   ],
   "source": [
    "from scipy.stats import f\n",
    "F = np.var(group1) / np.var(group2)\n",
    "alpha = 0.05 \n",
    "df1 = len(group1) - 1\n",
    "df2 = len(group2) - 1\n",
    "p_value = f.cdf(F, df1, df2)\n",
    "p_value"
   ]
  },
  {
   "cell_type": "markdown",
   "metadata": {
    "id": "CFe52JOLjEOv"
   },
   "source": [
    "We accept the assumption of equality of variances and perform the $t$ test under this assumption"
   ]
  },
  {
   "cell_type": "code",
   "execution_count": 3,
   "metadata": {
    "colab": {
     "base_uri": "https://localhost:8080/"
    },
    "id": "znMH__GxjH1I",
    "outputId": "6e7ae9b9-e0f4-4883-95d7-7604c810df9c"
   },
   "outputs": [
    {
     "data": {
      "text/plain": [
       "Ttest_indResult(statistic=-0.6337397070250238, pvalue=0.5300471010405257)"
      ]
     },
     "execution_count": 3,
     "metadata": {},
     "output_type": "execute_result"
    }
   ],
   "source": [
    "import scipy.stats as stats\n",
    "\n",
    "#perform two sample t-test with equal variances\n",
    "stats.ttest_ind(a=group1, b=group2, equal_var=True)"
   ]
  },
  {
   "cell_type": "markdown",
   "metadata": {
    "id": "d_ZjZgoVjevB"
   },
   "source": [
    "Because the p-value of our test (0.53005) is greater than alpha = 0.05, we fail to reject the null hypothesis of the test. We do not have sufficient evidence to say that the mean height of plants between the two populations is different."
   ]
  },
  {
   "cell_type": "markdown",
   "metadata": {
    "id": "nS2404XglS93"
   },
   "source": [
    "## **Paired t-test**"
   ]
  },
  {
   "cell_type": "markdown",
   "metadata": {
    "id": "XOKgnRlTlXNd"
   },
   "source": [
    "Suppose we want to know whether a certain study program significantly impacts student performance on a particular exam. To test this, we have 15 students in a class take a pre-test. Then, we have each of the students participate in the study program for two weeks. Then, the students retake a test of similar difficulty.\n",
    "\n",
    "To compare the difference between the mean scores on the first and second test, we use a paired samples t-test because for each student their first test score can be paired with their second test score."
   ]
  },
  {
   "cell_type": "markdown",
   "metadata": {
    "id": "BRJESxtZlYSc"
   },
   "source": [
    "Data"
   ]
  },
  {
   "cell_type": "code",
   "execution_count": 4,
   "metadata": {
    "id": "ZyYm8Atulc95"
   },
   "outputs": [],
   "source": [
    "pre = [88, 82, 84, 93, 75, 78, 84, 87, 95, 91, 83, 89, 77, 68, 91]\n",
    "post = [91, 84, 88, 90, 79, 80, 88, 90, 90, 96, 88, 89, 81, 74, 92]"
   ]
  },
  {
   "cell_type": "markdown",
   "metadata": {
    "id": "0drgGG4xls7i"
   },
   "source": [
    "Conduct a Paired Samples T-Test"
   ]
  },
  {
   "cell_type": "markdown",
   "metadata": {
    "id": "2wx8TkwAmHxN"
   },
   "source": [
    "the paired samples t-test uses the following null and alternative hypotheses:\n",
    "\n",
    "$H_0$: The mean pre-test and post-test scores are equal\n",
    "\n",
    "$H_A$:The mean pre-test and post-test scores are not equal"
   ]
  },
  {
   "cell_type": "markdown",
   "metadata": {
    "id": "0gJMj_tdlpjq"
   },
   "source": [
    "https://docs.scipy.org/doc/scipy/reference/generated/scipy.stats.ttest_rel.html"
   ]
  },
  {
   "cell_type": "code",
   "execution_count": 5,
   "metadata": {
    "colab": {
     "base_uri": "https://localhost:8080/"
    },
    "id": "6lv8koFjmBSc",
    "outputId": "6156a2c8-ef8b-4092-cc9d-70c27bf42ac9"
   },
   "outputs": [
    {
     "data": {
      "text/plain": [
       "Ttest_relResult(statistic=-2.9732484231168796, pvalue=0.01007144862643272)"
      ]
     },
     "execution_count": 5,
     "metadata": {},
     "output_type": "execute_result"
    }
   ],
   "source": [
    "import scipy.stats as stats\n",
    "\n",
    "#perform the paired samples t-test\n",
    "stats.ttest_rel(pre, post)"
   ]
  },
  {
   "cell_type": "markdown",
   "metadata": {
    "id": "L7XZNbgTmQQL"
   },
   "source": [
    "Since the p-value (0.0101) is less than 0.05, we reject the null hypothesis. We have sufficient evidence to say that the true mean test score is different for students before and after participating in the study program."
   ]
  }
 ],
 "metadata": {
  "colab": {
   "name": "LecturePS4.ipynb",
   "provenance": []
  },
  "kernelspec": {
   "display_name": "Python 3 (ipykernel)",
   "language": "python",
   "name": "python3"
  },
  "language_info": {
   "codemirror_mode": {
    "name": "ipython",
    "version": 3
   },
   "file_extension": ".py",
   "mimetype": "text/x-python",
   "name": "python",
   "nbconvert_exporter": "python",
   "pygments_lexer": "ipython3",
   "version": "3.9.2"
  }
 },
 "nbformat": 4,
 "nbformat_minor": 1
}
