{
 "cells": [
  {
   "cell_type": "code",
   "execution_count": 1,
   "metadata": {
    "executionInfo": {
     "elapsed": 351,
     "status": "ok",
     "timestamp": 1641194109084,
     "user": {
      "displayName": "Marianne Clausel",
      "photoUrl": "https://lh3.googleusercontent.com/a/default-user=s64",
      "userId": "17295850017257864432"
     },
     "user_tz": -60
    },
    "id": "O0KqbO8xZecP"
   },
   "outputs": [],
   "source": [
    "import numpy as np\n",
    "import pandas as pd\n",
    "import sklearn\n",
    "from sklearn.decomposition import PCA\n",
    "import matplotlib.pylab as plt\n",
    "from matplotlib import cm\n",
    "from matplotlib.colors import LinearSegmentedColormap"
   ]
  },
  {
   "cell_type": "markdown",
   "metadata": {
    "id": "cbDwV-8OZecU"
   },
   "source": [
    "# Importation, preprocessing"
   ]
  },
  {
   "cell_type": "code",
   "execution_count": 2,
   "metadata": {
    "colab": {
     "base_uri": "https://localhost:8080/",
     "height": 422
    },
    "executionInfo": {
     "elapsed": 240,
     "status": "ok",
     "timestamp": 1641194123806,
     "user": {
      "displayName": "Marianne Clausel",
      "photoUrl": "https://lh3.googleusercontent.com/a/default-user=s64",
      "userId": "17295850017257864432"
     },
     "user_tz": -60
    },
    "id": "cNkqeIHzZecV",
    "outputId": "82902a35-4b83-48bb-c57a-c33b159d67ef"
   },
   "outputs": [
    {
     "data": {
      "text/html": [
       "<div>\n",
       "<style scoped>\n",
       "    .dataframe tbody tr th:only-of-type {\n",
       "        vertical-align: middle;\n",
       "    }\n",
       "\n",
       "    .dataframe tbody tr th {\n",
       "        vertical-align: top;\n",
       "    }\n",
       "\n",
       "    .dataframe thead th {\n",
       "        text-align: right;\n",
       "    }\n",
       "</style>\n",
       "<table border=\"1\" class=\"dataframe\">\n",
       "  <thead>\n",
       "    <tr style=\"text-align: right;\">\n",
       "      <th></th>\n",
       "      <th>GATA3</th>\n",
       "      <th>XBP1</th>\n",
       "      <th>ER</th>\n",
       "    </tr>\n",
       "  </thead>\n",
       "  <tbody>\n",
       "    <tr>\n",
       "      <th>0</th>\n",
       "      <td>2.254402</td>\n",
       "      <td>2.783623</td>\n",
       "      <td>1.0</td>\n",
       "    </tr>\n",
       "    <tr>\n",
       "      <th>1</th>\n",
       "      <td>-0.763963</td>\n",
       "      <td>-0.335917</td>\n",
       "      <td>0.0</td>\n",
       "    </tr>\n",
       "    <tr>\n",
       "      <th>2</th>\n",
       "      <td>2.235507</td>\n",
       "      <td>-1.029805</td>\n",
       "      <td>0.0</td>\n",
       "    </tr>\n",
       "    <tr>\n",
       "      <th>3</th>\n",
       "      <td>3.173195</td>\n",
       "      <td>2.618602</td>\n",
       "      <td>1.0</td>\n",
       "    </tr>\n",
       "    <tr>\n",
       "      <th>4</th>\n",
       "      <td>2.741764</td>\n",
       "      <td>2.523033</td>\n",
       "      <td>1.0</td>\n",
       "    </tr>\n",
       "    <tr>\n",
       "      <th>...</th>\n",
       "      <td>...</td>\n",
       "      <td>...</td>\n",
       "      <td>...</td>\n",
       "    </tr>\n",
       "    <tr>\n",
       "      <th>89</th>\n",
       "      <td>-0.759636</td>\n",
       "      <td>2.437534</td>\n",
       "      <td>0.0</td>\n",
       "    </tr>\n",
       "    <tr>\n",
       "      <th>90</th>\n",
       "      <td>0.778592</td>\n",
       "      <td>2.755742</td>\n",
       "      <td>0.0</td>\n",
       "    </tr>\n",
       "    <tr>\n",
       "      <th>91</th>\n",
       "      <td>1.833594</td>\n",
       "      <td>1.233192</td>\n",
       "      <td>0.0</td>\n",
       "    </tr>\n",
       "    <tr>\n",
       "      <th>92</th>\n",
       "      <td>1.441871</td>\n",
       "      <td>2.530675</td>\n",
       "      <td>1.0</td>\n",
       "    </tr>\n",
       "    <tr>\n",
       "      <th>93</th>\n",
       "      <td>0.912858</td>\n",
       "      <td>1.058015</td>\n",
       "      <td>0.0</td>\n",
       "    </tr>\n",
       "  </tbody>\n",
       "</table>\n",
       "<p>94 rows × 3 columns</p>\n",
       "</div>"
      ],
      "text/plain": [
       "       GATA3      XBP1   ER\n",
       "0   2.254402  2.783623  1.0\n",
       "1  -0.763963 -0.335917  0.0\n",
       "2   2.235507 -1.029805  0.0\n",
       "3   3.173195  2.618602  1.0\n",
       "4   2.741764  2.523033  1.0\n",
       "..       ...       ...  ...\n",
       "89 -0.759636  2.437534  0.0\n",
       "90  0.778592  2.755742  0.0\n",
       "91  1.833594  1.233192  0.0\n",
       "92  1.441871  2.530675  1.0\n",
       "93  0.912858  1.058015  0.0\n",
       "\n",
       "[94 rows x 3 columns]"
      ]
     },
     "execution_count": 2,
     "metadata": {},
     "output_type": "execute_result"
    }
   ],
   "source": [
    "df=pd.read_csv('GSE5325_markers.csv')\n",
    "df"
   ]
  },
  {
   "cell_type": "markdown",
   "metadata": {
    "id": "rv9bEAOoZecW"
   },
   "source": [
    "# Visualisation"
   ]
  },
  {
   "cell_type": "code",
   "execution_count": 3,
   "metadata": {
    "colab": {
     "base_uri": "https://localhost:8080/",
     "height": 266
    },
    "executionInfo": {
     "elapsed": 573,
     "status": "ok",
     "timestamp": 1641194140810,
     "user": {
      "displayName": "Marianne Clausel",
      "photoUrl": "https://lh3.googleusercontent.com/a/default-user=s64",
      "userId": "17295850017257864432"
     },
     "user_tz": -60
    },
    "id": "kPmkzg3JZeca",
    "outputId": "3ad49a34-2baf-4374-ba75-bc6a5bd9b147"
   },
   "outputs": [
    {
     "data": {
      "image/png": "[encoded data removed]",
      "text/plain": [
       "<Figure size 640x480 with 1 Axes>"
      ]
     },
     "metadata": {},
     "output_type": "display_data"
    }
   ],
   "source": [
    "fig, ax = plt.subplots()\n",
    "colors = ['r', 'b']\n",
    "targets=[1.0,0.0]\n",
    "for target, color in zip(targets,colors):\n",
    "    indicesToKeep = df['ER'] == target\n",
    "    x=df[indicesToKeep]['GATA3'].to_numpy()\n",
    "    y=df[indicesToKeep]['XBP1'].to_numpy()\n",
    "    ax.scatter(x, y, c = color, s = 50)\n"
   ]
  },
  {
   "cell_type": "markdown",
   "metadata": {
    "id": "cCIl8EYsZeca"
   },
   "source": [
    "# Perform PCA"
   ]
  },
  {
   "cell_type": "code",
   "execution_count": 4,
   "metadata": {
    "colab": {
     "base_uri": "https://localhost:8080/"
    },
    "executionInfo": {
     "elapsed": 235,
     "status": "ok",
     "timestamp": 1641194306117,
     "user": {
      "displayName": "Marianne Clausel",
      "photoUrl": "https://lh3.googleusercontent.com/a/default-user=s64",
      "userId": "17295850017257864432"
     },
     "user_tz": -60
    },
    "id": "m3m5GCF2ggjv",
    "outputId": "22782855-83f1-444c-ee6f-661347833df8"
   },
   "outputs": [
    {
     "data": {
      "text/plain": [
       "array([[ 2.25440220e+00,  2.78362340e+00],\n",
       "       [-7.63963211e-01, -3.35916779e-01],\n",
       "       [ 2.23550748e+00, -1.02980485e+00],\n",
       "       [ 3.17319544e+00,  2.61860217e+00],\n",
       "       [ 2.74176444e+00,  2.52303264e+00],\n",
       "       [ 2.45520027e+00,  2.78966517e+00],\n",
       "       [ 2.10926960e+00,  3.54280931e+00],\n",
       "       [ 1.36092171e+00,  2.40383336e+00],\n",
       "       [ 2.97273143e+00,  2.83986589e+00],\n",
       "       [ 1.77779249e+00,  1.11840339e+00],\n",
       "       [ 1.31038559e+00,  1.19180352e+00],\n",
       "       [-1.31124685e+00, -9.17750578e-01],\n",
       "       [ 1.68620483e+00,  2.89620083e+00],\n",
       "       [ 3.86377151e+00,  3.56153519e+00],\n",
       "       [ 2.63189298e+00,  3.82882480e+00],\n",
       "       [ 2.19005639e+00,  3.13595222e+00],\n",
       "       [ 2.04303974e-01,  1.58764707e+00],\n",
       "       [-1.11121608e+00, -1.59778039e+00],\n",
       "       [ 1.88375558e+00,  1.81928376e+00],\n",
       "       [ 2.46711792e+00,  2.68203362e+00],\n",
       "       [ 2.44883099e+00,  1.88667356e+00],\n",
       "       [ 2.38731319e+00,  1.75344618e+00],\n",
       "       [ 2.12601464e+00,  2.23098063e+00],\n",
       "       [ 1.52811903e-01,  1.37545383e+00],\n",
       "       [ 1.32587438e-01,  2.86067514e+00],\n",
       "       [ 1.79326842e+00,  1.57808057e+00],\n",
       "       [ 9.05174559e-01, -6.77053232e-01],\n",
       "       [-1.21534493e+00, -1.61474049e+00],\n",
       "       [ 1.84405520e+00,  1.60910259e+00],\n",
       "       [-9.20023710e-02,  1.66060292e+00],\n",
       "       [ 1.83246552e+00,  1.64335732e+00],\n",
       "       [-4.20486659e-01, -1.16603142e+00],\n",
       "       [ 3.22271983e-01,  1.22009153e+00],\n",
       "       [-1.20060197e+00,  8.50872879e-01],\n",
       "       [ 2.96386969e+00,  1.65893200e+00],\n",
       "       [-1.84304270e+00, -6.16938519e-01],\n",
       "       [ 1.53818345e+00,  1.84233182e-01],\n",
       "       [ 2.14699356e+00,  1.45189762e+00],\n",
       "       [-9.70439748e-01, -1.25869492e+00],\n",
       "       [ 3.10916986e+00,  2.26084443e+00],\n",
       "       [ 1.79032110e+00,  6.81816599e-01],\n",
       "       [ 2.00110932e+00,  2.35558528e+00],\n",
       "       [ 2.89899200e-03,  5.63468350e-02],\n",
       "       [-8.40329095e-01,  1.62937688e+00],\n",
       "       [ 7.96952022e-01,  4.08243268e-01],\n",
       "       [-1.29771094e+00,  8.11894587e-01],\n",
       "       [ 3.46245031e+00,  3.89019308e-01],\n",
       "       [ 2.02417195e+00,  1.38544065e+00],\n",
       "       [-3.38096900e-02,  8.59606689e-01],\n",
       "       [-2.15711153e+00, -2.14556158e-01],\n",
       "       [ 2.33297629e+00,  2.58385606e+00],\n",
       "       [-9.67758921e-01,  9.33250619e-01],\n",
       "       [ 2.85183421e-01,  2.22402778e+00],\n",
       "       [-4.05902949e-01, -3.63903330e-02],\n",
       "       [-8.05772564e-01, -9.20597728e-01],\n",
       "       [ 2.38176864e+00,  1.68907905e+00],\n",
       "       [-6.10651691e-01, -1.32539861e+00],\n",
       "       [ 1.63419446e+00,  2.14511387e+00],\n",
       "       [-3.44812721e+00, -2.19190800e-02],\n",
       "       [ 5.73034533e-01,  1.51270904e+00],\n",
       "       [ 2.39669965e+00,  1.01042823e+00],\n",
       "       [ 1.27152658e+00,  2.54272604e+00],\n",
       "       [-1.28784113e+00,  8.74942445e-01],\n",
       "       [ 2.54864466e+00,  2.56631234e+00],\n",
       "       [ 3.04916800e+00,  1.83460018e+00],\n",
       "       [ 1.92345664e+00,  2.18561971e+00],\n",
       "       [ 8.03589122e-01, -8.25594881e-01],\n",
       "       [ 1.63112469e+00,  1.93831248e+00],\n",
       "       [-6.93088035e-01,  1.87589220e+00],\n",
       "       [ 6.51653323e-01,  1.02098625e+00],\n",
       "       [-6.86938864e-01,  9.47282499e-01],\n",
       "       [-5.78742665e-01,  1.32021631e+00],\n",
       "       [ 1.83199612e+00,  1.88729669e+00],\n",
       "       [ 2.27794729e+00,  2.84777118e+00],\n",
       "       [ 2.56385139e+00,  1.34244644e+00],\n",
       "       [-1.15254424e+00,  1.22431621e+00],\n",
       "       [ 2.58643719e+00,  2.48042777e+00],\n",
       "       [ 2.77709951e-01,  4.48335741e-01],\n",
       "       [ 2.34233515e+00,  2.48206588e+00],\n",
       "       [ 1.15362725e-01, -9.01148321e-01],\n",
       "       [ 2.94086652e+00,  3.47956711e+00],\n",
       "       [ 2.04206967e+00,  1.03111344e+00],\n",
       "       [ 1.91625662e+00,  1.38340127e+00],\n",
       "       [ 2.17223399e+00,  2.73827272e+00],\n",
       "       [ 1.45282158e+00,  2.07714132e+00],\n",
       "       [ 2.89399465e+00,  2.13964564e+00],\n",
       "       [ 1.15816615e+00,  8.85224971e-01],\n",
       "       [ 2.23823148e+00,  2.77366995e+00],\n",
       "       [ 2.49909674e+00,  2.32257229e+00],\n",
       "       [-7.59635888e-01,  2.43753442e+00],\n",
       "       [ 7.78592383e-01,  2.75574178e+00],\n",
       "       [ 1.83359388e+00,  1.23319246e+00],\n",
       "       [ 1.44187074e+00,  2.53067481e+00],\n",
       "       [ 9.12857931e-01,  1.05801549e+00]])"
      ]
     },
     "execution_count": 4,
     "metadata": {},
     "output_type": "execute_result"
    }
   ],
   "source": [
    "data=df.values\n",
    "data_original=data[:,:2]\n",
    "data_original"
   ]
  },
  {
   "cell_type": "code",
   "execution_count": 5,
   "metadata": {
    "colab": {
     "base_uri": "https://localhost:8080/"
    },
    "executionInfo": {
     "elapsed": 307,
     "status": "ok",
     "timestamp": 1641194605887,
     "user": {
      "displayName": "Marianne Clausel",
      "photoUrl": "https://lh3.googleusercontent.com/a/default-user=s64",
      "userId": "17295850017257864432"
     },
     "user_tz": -60
    },
    "id": "r1hTvaZRZecb",
    "outputId": "b58a45bc-1d13-4917-8fd5-1dd8966f6957"
   },
   "outputs": [
    {
     "data": {
      "text/plain": [
       "array([[-1.7550116 , -0.39031529],\n",
       "       [ 2.54268601,  0.21948466],\n",
       "       [ 0.60078578,  2.60848626],\n",
       "       [-2.37902757,  0.30395921],\n",
       "       [-1.97978133,  0.11456891],\n",
       "       [-1.91723455, -0.27182445],\n",
       "       [-2.10646885, -1.07872252],\n",
       "       [-0.81654442, -0.63896609],\n",
       "       [-2.35660031,  0.00623371],\n",
       "       [-0.35656687,  0.63167631],\n",
       "       [-0.03264291,  0.28681394],\n",
       "       [ 3.33188315,  0.34284516],\n",
       "       [-1.3755706 , -0.82797551],\n",
       "       [-3.50300433, -0.01650019],\n",
       "       [-2.69460995, -0.9836956 ],\n",
       "       [-1.9204935 , -0.70794987],\n",
       "       [ 0.59753163, -0.70464393],\n",
       "       [ 3.5914125 ,  1.00246427],\n",
       "       [-0.87045334,  0.14343235],\n",
       "       [-1.86057273, -0.17954217],\n",
       "       [-1.35790308,  0.43710624],\n",
       "       [-1.22755772,  0.50451588],\n",
       "       [-1.31441876, -0.03285852],\n",
       "       [ 0.76843584, -0.56874267],\n",
       "       [-0.12730498, -1.75362231],\n",
       "       [-0.65095776,  0.27829745],\n",
       "       [ 1.43444107,  1.51338889],\n",
       "       [ 3.684025  ,  0.9519332 ],\n",
       "       [-0.71009284,  0.2849836 ],\n",
       "       [ 0.78665795, -0.94412512],\n",
       "       [-0.72197106,  0.25082785],\n",
       "       [ 2.78110616,  1.0856384 ],\n",
       "       [ 0.73003001, -0.34207297],\n",
       "       [ 2.15886429, -0.98542363],\n",
       "       [-1.62468575,  0.93304786],\n",
       "       [ 3.56703978, -0.22106625],\n",
       "       [ 0.406028  ,  1.22204529],\n",
       "       [-0.85273811,  0.59504388],\n",
       "       [ 3.27213234,  0.82119897],\n",
       "       [-2.10887404,  0.54707842],\n",
       "       [-0.09845743,  0.98401778],\n",
       "       [-1.29230473, -0.20789744],\n",
       "       [ 1.69651702,  0.38056364],\n",
       "       [ 1.39657091, -1.37883667],\n",
       "       [ 0.85366252,  0.59020046],\n",
       "       [ 2.25945106, -1.01426391],\n",
       "       [-1.23873698,  2.24159836],\n",
       "       [-0.7149854 ,  0.5721121 ],\n",
       "       [ 1.23241276, -0.27608022],\n",
       "       [ 3.56796897, -0.73150717],\n",
       "       [-1.694412  , -0.1843819 ],\n",
       "       [ 1.92448535, -0.90752311],\n",
       "       [ 0.14303997, -1.15736816],\n",
       "       [ 2.07616076,  0.20282831],\n",
       "       [ 2.9345989 ,  0.65537928],\n",
       "       [-1.18366882,  0.55192511],\n",
       "       [ 3.02905432,  1.09471296],\n",
       "       [-0.87345611, -0.26697841],\n",
       "       [ 4.46887309, -1.67607179],\n",
       "       [ 0.35244888, -0.4191402 ],\n",
       "       [-0.77886435,  1.09683172],\n",
       "       [-0.83123362, -0.80348628],\n",
       "       [ 2.21295756, -1.0579766 ],\n",
       "       [-1.85389587, -0.038144  ],\n",
       "       [-1.79985633,  0.84673228],\n",
       "       [-1.12667033, -0.12139034],\n",
       "       [ 1.60581737,  1.56829233],\n",
       "       [-0.74408728, -0.10560945],\n",
       "       [ 1.12901175, -1.48305678],\n",
       "       [ 0.5922307 ,  0.01729639],\n",
       "       [ 1.69418662, -0.74621815],\n",
       "       [ 1.37984801, -0.97420343],\n",
       "       [-0.87134323,  0.05796885],\n",
       "       [-1.81297584, -0.4265017 ],\n",
       "       [-1.11462756,  0.93733606],\n",
       "       [ 1.89168749, -1.25072726],\n",
       "       [-1.83100965,  0.0528541 ],\n",
       "       [ 1.23895223,  0.23981271],\n",
       "       [-1.63931595, -0.09828164],\n",
       "       [ 2.19549635,  1.20546648],\n",
       "       [-2.72412751, -0.51832017],\n",
       "       [-0.51160968,  0.86281197],\n",
       "       [-0.6285429 ,  0.50747795],\n",
       "       [-1.66230767, -0.40495366],\n",
       "       [-0.68855146, -0.32465561],\n",
       "       [-1.86461208,  0.51066949],\n",
       "       [ 0.27571623,  0.43539322],\n",
       "       [-1.73613615, -0.39238427],\n",
       "       [-1.66516133,  0.1238544 ],\n",
       "       [ 0.83678068, -1.96727945],\n",
       "       [-0.57286123, -1.27423413],\n",
       "       [-0.47108118,  0.57531322],\n",
       "       [-0.95830919, -0.68940664],\n",
       "       [ 0.36329983,  0.14840577]])"
      ]
     },
     "execution_count": 5,
     "metadata": {},
     "output_type": "execute_result"
    }
   ],
   "source": [
    "pca = PCA(n_components=2)\n",
    "pca.fit(df.values)\n",
    "data_pca=pca.fit_transform(df.values[:,0:2])\n",
    "data_pca"
   ]
  },
  {
   "cell_type": "code",
   "execution_count": 6,
   "metadata": {
    "colab": {
     "base_uri": "https://localhost:8080/",
     "height": 265
    },
    "executionInfo": {
     "elapsed": 242,
     "status": "ok",
     "timestamp": 1641194668067,
     "user": {
      "displayName": "Marianne Clausel",
      "photoUrl": "https://lh3.googleusercontent.com/a/default-user=s64",
      "userId": "17295850017257864432"
     },
     "user_tz": -60
    },
    "id": "pHENL65EZecb",
    "outputId": "6f94841b-95bd-45d7-e8fa-77071e4f9b28"
   },
   "outputs": [
    {
     "data": {
      "image/png": "[encoded data removed]",
      "text/plain": [
       "<Figure size 640x480 with 1 Axes>"
      ]
     },
     "metadata": {},
     "output_type": "display_data"
    }
   ],
   "source": [
    "fig, ax = plt.subplots()\n",
    "colors = ['r', 'b']\n",
    "targets=[1.0,0.0]\n",
    "for target, color in zip(targets,colors):\n",
    "    indicesToKeep = df['ER'] == target\n",
    "    x=data_pca[indicesToKeep,0]\n",
    "    y=data_pca[indicesToKeep,1]\n",
    "    ax.scatter(x, y, c = color, s = 50)"
   ]
  },
  {
   "cell_type": "code",
   "execution_count": 7,
   "metadata": {
    "colab": {
     "base_uri": "https://localhost:8080/"
    },
    "executionInfo": {
     "elapsed": 2,
     "status": "ok",
     "timestamp": 1641194765683,
     "user": {
      "displayName": "Marianne Clausel",
      "photoUrl": "https://lh3.googleusercontent.com/a/default-user=s64",
      "userId": "17295850017257864432"
     },
     "user_tz": -60
    },
    "id": "XB5yg_tsZecb",
    "outputId": "897fffbd-7f17-48cc-b1df-a7f28e56b6d1"
   },
   "outputs": [
    {
     "data": {
      "text/plain": [
       "array([0.81803878, 0.18196122])"
      ]
     },
     "execution_count": 7,
     "metadata": {},
     "output_type": "execute_result"
    }
   ],
   "source": [
    "pca.explained_variance_ratio_"
   ]
  },
  {
   "cell_type": "markdown",
   "metadata": {
    "id": "Gjyzq-mvZecc"
   },
   "source": [
    "# We visualize only Principal Component 1"
   ]
  },
  {
   "cell_type": "code",
   "execution_count": 8,
   "metadata": {
    "colab": {
     "base_uri": "https://localhost:8080/",
     "height": 296
    },
    "executionInfo": {
     "elapsed": 217,
     "status": "ok",
     "timestamp": 1641194785651,
     "user": {
      "displayName": "Marianne Clausel",
      "photoUrl": "https://lh3.googleusercontent.com/a/default-user=s64",
      "userId": "17295850017257864432"
     },
     "user_tz": -60
    },
    "id": "4U_zS17xZecc",
    "outputId": "e82a5f98-6769-419c-8bca-13bf5d50f858"
   },
   "outputs": [
    {
     "data": {
      "text/plain": [
       "Text(-5, 3, 'ER-')"
      ]
     },
     "execution_count": 8,
     "metadata": {},
     "output_type": "execute_result"
    },
    {
     "data": {
      "image/png": "[encoded data removed]",
      "text/plain": [
       "<Figure size 640x480 with 1 Axes>"
      ]
     },
     "metadata": {},
     "output_type": "display_data"
    }
   ],
   "source": [
    "fig, ax = plt.subplots()\n",
    "colors = ['r', 'b']\n",
    "targets=[1.0,0.0]\n",
    "for target, color in zip(targets,colors):\n",
    "    indicesToKeep = df['ER'] == target\n",
    "    x=data_pca[indicesToKeep,0]\n",
    "    y=np.ones(len(x))\n",
    "    ax.scatter(x, y, c = color, s = 50)\n",
    "\n",
    "indicesToKeep = df['ER'] == 1.0\n",
    "x=data_pca[indicesToKeep,0]\n",
    "y=2*np.ones(len(x))\n",
    "ax.scatter(x, y, c = 'r', s = 50)\n",
    "\n",
    "indicesToKeep = df['ER'] == 0.0\n",
    "x=data_pca[indicesToKeep,0]\n",
    "y=3*np.ones(len(x))\n",
    "ax.scatter(x, y, c = 'b', s = 50)\n",
    "\n",
    "ax.set_ylim(ymin=0, ymax=4)\n",
    "plt.yticks([])\n",
    "plt.xlabel('PC1')\n",
    "ax.text(-5, 1, r'All', fontsize = 15)\n",
    "ax.text(-5, 2, r'ER+', fontsize = 15)\n",
    "ax.text(-5, 3, r'ER-', fontsize = 15)"
   ]
  },
  {
   "cell_type": "markdown",
   "metadata": {
    "id": "zTWdcbWHZecc"
   },
   "source": [
    "# Horseshoe effect"
   ]
  },
  {
   "cell_type": "code",
   "execution_count": 9,
   "metadata": {
    "executionInfo": {
     "elapsed": 314,
     "status": "ok",
     "timestamp": 1641195202501,
     "user": {
      "displayName": "Marianne Clausel",
      "photoUrl": "https://lh3.googleusercontent.com/a/default-user=s64",
      "userId": "17295850017257864432"
     },
     "user_tz": -60
    },
    "id": "Tfc3nthmZecc"
   },
   "outputs": [],
   "source": [
    "genes=np.array([[2,0,0,0,0,0,0,0,0,0],\n",
    "                [4,2,0,0,0,0,0,0,0,0],\n",
    "                [2,4,2,0,0,0,0,0,0,0], \n",
    "                [0,2,4,2,0,0,0,0,0,0],\n",
    "                [0,0,2,4,2,0,0,0,0,0],\n",
    "                 [0,0,0,2,4,2,0,0,0,0],   \n",
    "                 [0,0,0,0,2,4,2,0,0,0],    \n",
    "                 [0,0,0,0,0,2,4,2,0,0],   \n",
    "                 [0,0,0,0,0,0,2,4,2,0],  \n",
    "                 [0,0,0,0,0,0,0,2,4,2],\n",
    "               [0,0,0,0,0,0,0,0,2,4],\n",
    "                [0,0,0,0,0,0,0,0,0,2]])"
   ]
  },
  {
   "cell_type": "code",
   "execution_count": 10,
   "metadata": {
    "colab": {
     "base_uri": "https://localhost:8080/",
     "height": 265
    },
    "executionInfo": {
     "elapsed": 357,
     "status": "ok",
     "timestamp": 1641195208312,
     "user": {
      "displayName": "Marianne Clausel",
      "photoUrl": "https://lh3.googleusercontent.com/a/default-user=s64",
      "userId": "17295850017257864432"
     },
     "user_tz": -60
    },
    "id": "eFYP-kvGZecd",
    "outputId": "15dc6c93-04a3-4b65-d072-d5f19bda1401"
   },
   "outputs": [
    {
     "data": {
      "image/png": "[encoded data removed]",
      "text/plain": [
       "<Figure size 640x480 with 1 Axes>"
      ]
     },
     "metadata": {},
     "output_type": "display_data"
    }
   ],
   "source": [
    "fig, ax = plt.subplots()\n",
    "t=np.linspace(0, 1,10)\n",
    "\n",
    "for color in range(4):\n",
    "    x=genes[3*color+1,:]\n",
    "    plt.plot(t, x)"
   ]
  },
  {
   "cell_type": "code",
   "execution_count": 11,
   "metadata": {
    "colab": {
     "base_uri": "https://localhost:8080/"
    },
    "executionInfo": {
     "elapsed": 324,
     "status": "ok",
     "timestamp": 1641195330247,
     "user": {
      "displayName": "Marianne Clausel",
      "photoUrl": "https://lh3.googleusercontent.com/a/default-user=s64",
      "userId": "17295850017257864432"
     },
     "user_tz": -60
    },
    "id": "GEpvhG1wZecd",
    "outputId": "f0f88de6-aca7-44a8-e420-d281536dd352"
   },
   "outputs": [
    {
     "data": {
      "text/plain": [
       "array([[-0.51417934, -0.82968323],\n",
       "       [-1.80854039, -1.95078175],\n",
       "       [-2.90245631, -2.00485395],\n",
       "       [-3.05904312, -0.40498598],\n",
       "       [-2.30490101,  1.81229288],\n",
       "       [-0.85395315,  3.37801203],\n",
       "       [ 0.85395315,  3.37801203],\n",
       "       [ 2.30490101,  1.81229288],\n",
       "       [ 3.05904312, -0.40498598],\n",
       "       [ 2.90245631, -2.00485395],\n",
       "       [ 1.80854039, -1.95078175],\n",
       "       [ 0.51417934, -0.82968323]])"
      ]
     },
     "execution_count": 11,
     "metadata": {},
     "output_type": "execute_result"
    }
   ],
   "source": [
    "pca = PCA(n_components=2)\n",
    "pca.fit(genes)\n",
    "genes_pca=pca.fit_transform(genes)\n",
    "genes_pca"
   ]
  },
  {
   "cell_type": "code",
   "execution_count": 12,
   "metadata": {
    "colab": {
     "base_uri": "https://localhost:8080/",
     "height": 296
    },
    "executionInfo": {
     "elapsed": 725,
     "status": "ok",
     "timestamp": 1641195448598,
     "user": {
      "displayName": "Marianne Clausel",
      "photoUrl": "https://lh3.googleusercontent.com/a/default-user=s64",
      "userId": "17295850017257864432"
     },
     "user_tz": -60
    },
    "id": "GV8W44VlZecd",
    "outputId": "384e473f-a646-42c7-a2fe-e8d6812e702f"
   },
   "outputs": [
    {
     "data": {
      "text/plain": [
       "Text(0, 0.5, 'PC2')"
      ]
     },
     "execution_count": 12,
     "metadata": {},
     "output_type": "execute_result"
    },
    {
     "data": {
      "image/png": "[encoded data removed]",
      "text/plain": [
       "<Figure size 640x480 with 1 Axes>"
      ]
     },
     "metadata": {},
     "output_type": "display_data"
    }
   ],
   "source": [
    "fig, ax = plt.subplots()\n",
    "x=genes_pca[:,0]\n",
    "y=genes_pca[:,1]\n",
    "ax.scatter(x, y, s = 50)\n",
    "plt.xlabel('PC1')\n",
    "plt.ylabel('PC2')"
   ]
  },
  {
   "cell_type": "code",
   "execution_count": null,
   "metadata": {
    "id": "YS4B_vQZZecd"
   },
   "outputs": [],
   "source": []
  }
 ],
 "metadata": {
  "colab": {
   "name": "pca_breast.ipynb",
   "provenance": []
  },
  "kernelspec": {
   "display_name": "Python 3 (ipykernel)",
   "language": "python",
   "name": "python3"
  },
  "language_info": {
   "codemirror_mode": {
    "name": "ipython",
    "version": 3
   },
   "file_extension": ".py",
   "mimetype": "text/x-python",
   "name": "python",
   "nbconvert_exporter": "python",
   "pygments_lexer": "ipython3",
   "version": "3.9.2"
  }
 },
 "nbformat": 4,
 "nbformat_minor": 1
}
