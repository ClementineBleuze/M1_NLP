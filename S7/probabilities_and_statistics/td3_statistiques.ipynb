{
 "cells": [
  {
   "cell_type": "code",
   "execution_count": 18,
   "id": "f1723d37",
   "metadata": {},
   "outputs": [],
   "source": [
    "import spacy\n",
    "from scipy.stats import ttest_1samp\n",
    "from scipy.stats import t"
   ]
  },
  {
   "cell_type": "code",
   "execution_count": 1,
   "id": "65bc896a",
   "metadata": {},
   "outputs": [
    {
     "name": "stdout",
     "output_type": "stream",
     "text": [
      "{'x': 'data', 'popmean': 'the tested mean', 'alternative': 'less, greater or two-sided', 'return': 'returns tscore and associated p-value'}\n"
     ]
    }
   ],
   "source": [
    "def ttest_1_sample(x:\"data\",popmean:\"the tested mean\",alternative:\"less, greater or two-sided\",alpha=0.05)->\"returns tscore and associated p-value\":\n",
    "    \n",
    "    # Hypotheses\n",
    "    h0 = f\"Mean equals {popmean}\"\n",
    "    if alternative == \"two-sided\":\n",
    "        ha= f\"Mean is different from {popmean}\"\n",
    "    else:\n",
    "        ha = f\"Mean is {alternative} than {popmean}\"\n",
    "    \n",
    "    # T score and p value\n",
    "    tscore, pvalue= ttest_1samp(x,popmean=popmean,alternative=alternative)\n",
    "    print(f\"- tscore: {tscore}\\n- p-value: {pvalue}\\n\")\n",
    "    \n",
    "    # Conclusion using critical value\n",
    "    print(\"**Conclusion using the critical value(s):\\n\")\n",
    "    if alternative == \"two-sided\":\n",
    "        q = 1-alpha/2\n",
    "    elif alternative == \"greater\":\n",
    "        q = 1-alpha\n",
    "    else:\n",
    "        q = alpha\n",
    "        \n",
    "    critical = t.ppf(q=q,df=len(x)-1)\n",
    "    if alternative == \"two-sided\":\n",
    "        print(f\"- critical values: {-critical, critical}\")\n",
    "    else:\n",
    "        print(f\"- critical value: {critical}\")\n",
    "    if ((alternative==\"greater\" and tscore<critical) or (alternative==\"less\" and tscore>critical) or (alternative==\"two-sided\" and tscore>-critical and tscore<critical)):\n",
    "        print(f\"{alternative} testing with tscore = {tscore} -> Hypothesis H0 ({h0}) can't be rejected.\\n\")\n",
    "    else:\n",
    "        print(f\"{alternative} testing with tscore = {tscore} -> Hypothesis H0 ({h0}) is rejected, we choose the alternative HA ({ha}).\\n\")\n",
    "    \n",
    "    \n",
    "    # Conclusion with p-value method\n",
    "    print(\"**Conclusion using p-value:\\n\")\n",
    "    if pvalue >= alpha:\n",
    "        print(f\"p-value >= {alpha} -> Hypothesis H0 ({h0}) can't be rejected.\")\n",
    "    else:\n",
    "        print(f\"p-value < {alpha} -> Hypothesis H0 ({h0}) is rejected, we choose the alternative HA ({ha}).\")\n",
    "        \n",
    "print(ttest_1_sample.__annotations__)"
   ]
  },
  {
   "cell_type": "markdown",
   "id": "81929cd9",
   "metadata": {},
   "source": [
    "#### Exercise 1 : Height of Sunflowers"
   ]
  },
  {
   "cell_type": "code",
   "execution_count": 35,
   "id": "af2fdc35",
   "metadata": {},
   "outputs": [
    {
     "name": "stdout",
     "output_type": "stream",
     "text": [
      "- tscore: -4.599006005602887\n",
      "- p-value: 0.99996825756043\n",
      "\n",
      "**Conclusion using the critical value(s):\n",
      "\n",
      "- critical value: 1.6938887423906548\n",
      "greater testing with tscore = -4.599006005602887 -> Hypothesis H0 (Mean equals 15.7) can't be rejected.\n",
      "\n",
      "**Conclusion using p-value:\n",
      "\n",
      "p-value >= 0.05 -> Hypothesis H0 (Mean equals 15.7) can't be rejected.\n"
     ]
    }
   ],
   "source": [
    "x = [11.5,11.8,15.7,16.1,14.1,10.5,9.3,15.0,11.1,15.2,19.0,12.8,12.4,19.2,13.5,12.2,13.3,16.5,13.5,14.4,16.7,10.9,13.0\n",
    "     ,10.3,15.8,15.1,17.1,13.3,12.4,8.5,14.3,12.9,13.5]\n",
    "\n",
    "ttest_1_sample(x, popmean=15.7, alternative=\"greater\")"
   ]
  },
  {
   "cell_type": "code",
   "execution_count": 36,
   "id": "ffc2b2a8",
   "metadata": {},
   "outputs": [
    {
     "name": "stdout",
     "output_type": "stream",
     "text": [
      "- tscore: -4.599006005602887\n",
      "- p-value: 6.348487914001979e-05\n",
      "\n",
      "**Conclusion using the critical value(s):\n",
      "\n",
      "- critical values: (-2.036933343460101, 2.036933343460101)\n",
      "two-sided testing with tscore = -4.599006005602887 -> Hypothesis H0 (Mean equals 15.7) is rejected, we choose the alternative HA (Mean is different from 15.7).\n",
      "\n",
      "**Conclusion using p-value:\n",
      "\n",
      "p-value < 0.05 -> Hypothesis H0 (Mean equals 15.7) is rejected, we choose the alternative HA (Mean is different from 15.7).\n"
     ]
    }
   ],
   "source": [
    "ttest_1_sample(x, popmean=15.7, alternative=\"two-sided\")"
   ]
  },
  {
   "cell_type": "markdown",
   "id": "57e04150",
   "metadata": {},
   "source": [
    "#### Exercise 2: Gum thickness"
   ]
  },
  {
   "cell_type": "code",
   "execution_count": 37,
   "id": "e8bb785d",
   "metadata": {},
   "outputs": [
    {
     "name": "stdout",
     "output_type": "stream",
     "text": [
      "- tscore: 1.538967528127726\n",
      "- p-value: 0.07909771026938993\n",
      "\n",
      "**Conclusion using the critical value(s):\n",
      "\n",
      "- critical value: 1.8331129326536335\n",
      "greater testing with tscore = 1.538967528127726 -> Hypothesis H0 (Mean equals 7.5) can't be rejected.\n",
      "\n",
      "**Conclusion using p-value:\n",
      "\n",
      "p-value >= 0.05 -> Hypothesis H0 (Mean equals 7.5) can't be rejected.\n"
     ]
    }
   ],
   "source": [
    "x = [7.65,7.60,7.65,7.70,7.55,7.55,7.40,7.40,7.50,7.50]\n",
    "ttest_1_sample(x, popmean=7.5, alternative=\"greater\")"
   ]
  },
  {
   "cell_type": "code",
   "execution_count": 38,
   "id": "8bef6830",
   "metadata": {},
   "outputs": [
    {
     "name": "stdout",
     "output_type": "stream",
     "text": [
      "- tscore: 1.538967528127726\n",
      "- p-value: 0.15819542053877986\n",
      "\n",
      "**Conclusion using the critical value(s):\n",
      "\n",
      "- critical values: (-2.2621571627409915, 2.2621571627409915)\n",
      "two-sided testing with tscore = 1.538967528127726 -> Hypothesis H0 (Mean equals 7.5) can't be rejected.\n",
      "\n",
      "**Conclusion using p-value:\n",
      "\n",
      "p-value >= 0.05 -> Hypothesis H0 (Mean equals 7.5) can't be rejected.\n"
     ]
    }
   ],
   "source": [
    "ttest_1_sample(x, popmean=7.5, alternative=\"two-sided\")"
   ]
  },
  {
   "cell_type": "markdown",
   "id": "398d92c3",
   "metadata": {},
   "source": [
    "#### Exercise 3: Anti-wrinkle treatment"
   ]
  },
  {
   "cell_type": "code",
   "execution_count": 48,
   "id": "ae657dd2",
   "metadata": {},
   "outputs": [
    {
     "name": "stdout",
     "output_type": "stream",
     "text": [
      "- tscore: -1.7633419974582352\n",
      "- p-value: 0.07937753840639807\n",
      "\n",
      "**Conclusion using the critical value(s):\n",
      "\n",
      "- critical values: (-1.971956544249395, 1.971956544249395)\n",
      "two-sided testing with tscore = -1.7633419974582352 -> Hypothesis H0 (Mean equals 0.25) can't be rejected.\n",
      "\n",
      "**Conclusion using p-value:\n",
      "\n",
      "p-value >= 0.05 -> Hypothesis H0 (Mean equals 0.25) can't be rejected.\n"
     ]
    }
   ],
   "source": [
    "x=[1]*40\n",
    "x.extend([0]*160)\n",
    "\n",
    "ttest_1_sample(x, popmean=0.25, alternative=\"two-sided\")"
   ]
  },
  {
   "cell_type": "code",
   "execution_count": 50,
   "id": "0cc14978",
   "metadata": {},
   "outputs": [
    {
     "name": "stdout",
     "output_type": "stream",
     "text": [
      "-1.7677669529663682 0.0770998717435419\n"
     ]
    }
   ],
   "source": [
    "from statsmodels.stats.proportion import proportions_ztest\n",
    "stat,pval=proportions_ztest(40,200,.25)\n",
    "print(stat,pval)\n",
    "# remark: simulation with Bernoulli law is relevant because of the sample's size"
   ]
  }
 ],
 "metadata": {
  "kernelspec": {
   "display_name": "Python 3 (ipykernel)",
   "language": "python",
   "name": "python3"
  },
  "language_info": {
   "codemirror_mode": {
    "name": "ipython",
    "version": 3
   },
   "file_extension": ".py",
   "mimetype": "text/x-python",
   "name": "python",
   "nbconvert_exporter": "python",
   "pygments_lexer": "ipython3",
   "version": "3.9.2"
  }
 },
 "nbformat": 4,
 "nbformat_minor": 5
}
